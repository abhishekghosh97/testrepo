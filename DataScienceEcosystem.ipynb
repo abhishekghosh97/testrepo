{
 "cells": [
  {
   "cell_type": "markdown",
   "id": "ccb0b92f-b2fc-4ccc-bf10-70a3ceda6d3b",
   "metadata": {},
   "source": [
    "## Data Science Tools and Ecosystem"
   ]
  },
  {
   "cell_type": "markdown",
   "id": "2b9bf49d-ca33-4f78-966d-9594af30a5d0",
   "metadata": {},
   "source": [
    "In this notebook, Data Science Tools and Ecosystem are summarized."
   ]
  },
  {
   "cell_type": "markdown",
   "id": "04c1f44c-2ad1-4381-a39e-80559d3ade01",
   "metadata": {},
   "source": [
    "Some of the popular languages that Data Scientists use are:\n",
    "1. R\n",
    "2. Python\n",
    "3. Scala\n",
    "4. JavaScript"
   ]
  },
  {
   "cell_type": "markdown",
   "id": "48edacb1-c3e2-4b93-8944-5e24aa7e5efc",
   "metadata": {},
   "source": [
    "Some of the commonly used libraries used by Data Scientists include:\n",
    "1. ggplot\n",
    "2. matplotlib\n",
    "3. pandas\n",
    "4. tensorflow\n"
   ]
  },
  {
   "cell_type": "markdown",
   "id": "7410a51c-1cc9-4fdc-9716-d1358f414a06",
   "metadata": {},
   "source": [
    "|Data Science Tools|\n",
    "|---|\n",
    "|Jupyter Notebooks|\n",
    "|R Studio|\n",
    "|Zeppelin Notebooks|"
   ]
  },
  {
   "cell_type": "markdown",
   "id": "865aad06-227c-4cb0-9f6e-09d79a0c958e",
   "metadata": {},
   "source": [
    "#### Below are a few examples of evaluating arithmetic expressions in Python"
   ]
  },
  {
   "cell_type": "code",
   "execution_count": 1,
   "id": "4a2c3a92-0c01-4eb7-acf3-6e172ce7be50",
   "metadata": {
    "tags": []
   },
   "outputs": [
    {
     "data": {
      "text/plain": [
       "17"
      ]
     },
     "execution_count": 1,
     "metadata": {},
     "output_type": "execute_result"
    }
   ],
   "source": [
    "(3*4)+5"
   ]
  },
  {
   "cell_type": "code",
   "execution_count": 3,
   "id": "f9f07088-6cb0-45f7-8865-bece3f311eb0",
   "metadata": {
    "tags": []
   },
   "outputs": [
    {
     "data": {
      "text/plain": [
       "3.3333333333333335"
      ]
     },
     "execution_count": 3,
     "metadata": {},
     "output_type": "execute_result"
    }
   ],
   "source": [
    "#This will convert 200 minutes to hours by diving by 60\n",
    "200/60"
   ]
  },
  {
   "cell_type": "markdown",
   "id": "8c64e4a2-7fdc-40e4-a645-24ea24249db3",
   "metadata": {},
   "source": [
    "**Objectives:**\n",
    "* List popular languages for Data Science\n",
    "* List commonly used libraries for Data Science\n",
    "* List popular open source tools for Data Science"
   ]
  },
  {
   "cell_type": "markdown",
   "id": "5efc57c8-7ad2-4252-8ffd-181d11c2571c",
   "metadata": {},
   "source": [
    "### Author\n",
    "Abhishek Ghosh\n"
   ]
  },
  {
   "cell_type": "code",
   "execution_count": null,
   "id": "b97e8767-437d-4b19-9b56-edb6b55e1a47",
   "metadata": {},
   "outputs": [],
   "source": []
  }
 ],
 "metadata": {
  "kernelspec": {
   "display_name": "Python",
   "language": "python",
   "name": "conda-env-python-py"
  },
  "language_info": {
   "codemirror_mode": {
    "name": "ipython",
    "version": 3
   },
   "file_extension": ".py",
   "mimetype": "text/x-python",
   "name": "python",
   "nbconvert_exporter": "python",
   "pygments_lexer": "ipython3",
   "version": "3.7.12"
  }
 },
 "nbformat": 4,
 "nbformat_minor": 5
}
